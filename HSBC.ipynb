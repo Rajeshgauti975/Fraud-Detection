{
 "cells": [
  {
   "cell_type": "code",
   "execution_count": 1,
   "id": "34c31245-2a9c-4755-b3ac-bc7a147960ce",
   "metadata": {},
   "outputs": [
    {
     "data": {
      "text/plain": [
       "'C:\\\\Users\\\\nirma'"
      ]
     },
     "execution_count": 1,
     "metadata": {},
     "output_type": "execute_result"
    }
   ],
   "source": [
    "import os\n",
    "os.getcwd()  # prints the folder Jupyter is using\n"
   ]
  },
  {
   "cell_type": "code",
   "execution_count": 2,
   "id": "7f444c71-1c2b-449a-ab4e-51b3b097ad4a",
   "metadata": {},
   "outputs": [],
   "source": [
    "import pandas as pd\n",
    "import numpy as np\n",
    "import matplotlib.pyplot as plt\n",
    "from sklearn.model_selection import train_test_split\n",
    "from sklearn.linear_model import LogisticRegression\n",
    "from sklearn.metrics import accuracy_score, classification_report\n"
   ]
  },
  {
   "cell_type": "code",
   "execution_count": 6,
   "id": "7e0d5bef-648a-4ffd-bced-7149a532d9b0",
   "metadata": {},
   "outputs": [
    {
     "data": {
      "text/html": [
       "<div>\n",
       "<style scoped>\n",
       "    .dataframe tbody tr th:only-of-type {\n",
       "        vertical-align: middle;\n",
       "    }\n",
       "\n",
       "    .dataframe tbody tr th {\n",
       "        vertical-align: top;\n",
       "    }\n",
       "\n",
       "    .dataframe thead th {\n",
       "        text-align: right;\n",
       "    }\n",
       "</style>\n",
       "<table border=\"1\" class=\"dataframe\">\n",
       "  <thead>\n",
       "    <tr style=\"text-align: right;\">\n",
       "      <th></th>\n",
       "      <th>V1</th>\n",
       "      <th>V2</th>\n",
       "      <th>V3</th>\n",
       "      <th>V4</th>\n",
       "      <th>V5</th>\n",
       "      <th>V6</th>\n",
       "      <th>V7</th>\n",
       "      <th>V8</th>\n",
       "      <th>V9</th>\n",
       "      <th>V10</th>\n",
       "      <th>V11</th>\n",
       "      <th>V12</th>\n",
       "      <th>Target</th>\n",
       "      <th>V13</th>\n",
       "    </tr>\n",
       "  </thead>\n",
       "  <tbody>\n",
       "    <tr>\n",
       "      <th>0</th>\n",
       "      <td>CUID1872</td>\n",
       "      <td>TID229526</td>\n",
       "      <td>EID2062082</td>\n",
       "      <td>485.69445</td>\n",
       "      <td>2020-03-20 22:51:30</td>\n",
       "      <td>376474</td>\n",
       "      <td>A</td>\n",
       "      <td>BA1</td>\n",
       "      <td>BB425559</td>\n",
       "      <td>PD44707</td>\n",
       "      <td>CC1</td>\n",
       "      <td>CP0</td>\n",
       "      <td>0</td>\n",
       "      <td>2020-03-21 00:00:00</td>\n",
       "    </tr>\n",
       "    <tr>\n",
       "      <th>1</th>\n",
       "      <td>CUID5533</td>\n",
       "      <td>TID244499</td>\n",
       "      <td>EID1459012</td>\n",
       "      <td>393.45200</td>\n",
       "      <td>2020-04-28 07:17:12</td>\n",
       "      <td>33227</td>\n",
       "      <td>A</td>\n",
       "      <td>BA4793</td>\n",
       "      <td>BB248012</td>\n",
       "      <td>PD39453</td>\n",
       "      <td>CC1</td>\n",
       "      <td>CP0</td>\n",
       "      <td>0</td>\n",
       "      <td>2020-04-28 00:00:00</td>\n",
       "    </tr>\n",
       "    <tr>\n",
       "      <th>2</th>\n",
       "      <td>CUID5278</td>\n",
       "      <td>TID311877</td>\n",
       "      <td>EID0</td>\n",
       "      <td>375.75000</td>\n",
       "      <td>2020-08-15 04:11:43</td>\n",
       "      <td>0</td>\n",
       "      <td>F</td>\n",
       "      <td>BA5631</td>\n",
       "      <td>BB166256</td>\n",
       "      <td>PD237664</td>\n",
       "      <td>CC1</td>\n",
       "      <td>CP0</td>\n",
       "      <td>0</td>\n",
       "      <td>NaN</td>\n",
       "    </tr>\n",
       "    <tr>\n",
       "      <th>3</th>\n",
       "      <td>CUID24</td>\n",
       "      <td>TID279685</td>\n",
       "      <td>EID0</td>\n",
       "      <td>6.97225</td>\n",
       "      <td>2020-06-26 01:11:42</td>\n",
       "      <td>0</td>\n",
       "      <td>C</td>\n",
       "      <td>BA7188</td>\n",
       "      <td>BB354924</td>\n",
       "      <td>PD99032</td>\n",
       "      <td>CC1</td>\n",
       "      <td>CP0</td>\n",
       "      <td>0</td>\n",
       "      <td>NaN</td>\n",
       "    </tr>\n",
       "    <tr>\n",
       "      <th>4</th>\n",
       "      <td>CUID449</td>\n",
       "      <td>TID104689</td>\n",
       "      <td>EID0</td>\n",
       "      <td>16.70000</td>\n",
       "      <td>2020-09-15 10:11:06</td>\n",
       "      <td>0</td>\n",
       "      <td>C</td>\n",
       "      <td>BA7236</td>\n",
       "      <td>BB354924</td>\n",
       "      <td>PD63422</td>\n",
       "      <td>CC1</td>\n",
       "      <td>CP0</td>\n",
       "      <td>0</td>\n",
       "      <td>NaN</td>\n",
       "    </tr>\n",
       "  </tbody>\n",
       "</table>\n",
       "</div>"
      ],
      "text/plain": [
       "         V1         V2          V3         V4                   V5      V6 V7  \\\n",
       "0  CUID1872  TID229526  EID2062082  485.69445  2020-03-20 22:51:30  376474  A   \n",
       "1  CUID5533  TID244499  EID1459012  393.45200  2020-04-28 07:17:12   33227  A   \n",
       "2  CUID5278  TID311877        EID0  375.75000  2020-08-15 04:11:43       0  F   \n",
       "3    CUID24  TID279685        EID0    6.97225  2020-06-26 01:11:42       0  C   \n",
       "4   CUID449  TID104689        EID0   16.70000  2020-09-15 10:11:06       0  C   \n",
       "\n",
       "       V8        V9       V10  V11  V12  Target                  V13  \n",
       "0     BA1  BB425559   PD44707  CC1  CP0       0  2020-03-21 00:00:00  \n",
       "1  BA4793  BB248012   PD39453  CC1  CP0       0  2020-04-28 00:00:00  \n",
       "2  BA5631  BB166256  PD237664  CC1  CP0       0                  NaN  \n",
       "3  BA7188  BB354924   PD99032  CC1  CP0       0                  NaN  \n",
       "4  BA7236  BB354924   PD63422  CC1  CP0       0                  NaN  "
      ]
     },
     "execution_count": 6,
     "metadata": {},
     "output_type": "execute_result"
    }
   ],
   "source": [
    "import pandas as pd\n",
    "\n",
    "train = pd.read_csv(r\"C:\\Users\\nirma\\datasets\\archive (1)\\dataset\\train.csv\")\n",
    "test = pd.read_csv(r\"C:\\Users\\nirma\\datasets\\archive (1)\\dataset\\test.csv\")\n",
    "train_helper = pd.read_csv(r\"C:\\Users\\nirma\\datasets\\archive (1)\\dataset\\train_helper.csv\")\n",
    "test_helper = pd.read_csv(r\"C:\\Users\\nirma\\datasets\\archive (1)\\dataset\\test_helper.csv\")\n",
    "sample_submission = pd.read_csv(r\"C:\\Users\\nirma\\datasets\\archive (1)\\dataset\\sample_submission.csv\")\n",
    "\n",
    "\n",
    "train.head()"
   ]
  },
  {
   "cell_type": "code",
   "execution_count": 7,
   "id": "fc79b01f-bea7-4af9-be67-cff3881dcf05",
   "metadata": {},
   "outputs": [
    {
     "name": "stdout",
     "output_type": "stream",
     "text": [
      "Train shape: (233633, 14)\n",
      "Test shape: (215852, 13)\n",
      "\n",
      "Train columns: Index(['V1', 'V2', 'V3', 'V4', 'V5', 'V6', 'V7', 'V8', 'V9', 'V10', 'V11',\n",
      "       'V12', 'Target', 'V13'],\n",
      "      dtype='object')\n",
      "\n",
      "Test columns: Index(['V1', 'V2', 'V3', 'V4', 'V5', 'V6', 'V7', 'V8', 'V9', 'V10', 'V11',\n",
      "       'V12', 'V13'],\n",
      "      dtype='object')\n",
      "<class 'pandas.core.frame.DataFrame'>\n",
      "RangeIndex: 233633 entries, 0 to 233632\n",
      "Data columns (total 14 columns):\n",
      " #   Column  Non-Null Count   Dtype  \n",
      "---  ------  --------------   -----  \n",
      " 0   V1      233633 non-null  object \n",
      " 1   V2      233633 non-null  object \n",
      " 2   V3      233633 non-null  object \n",
      " 3   V4      233633 non-null  float64\n",
      " 4   V5      233633 non-null  object \n",
      " 5   V6      233633 non-null  int64  \n",
      " 6   V7      233633 non-null  object \n",
      " 7   V8      233633 non-null  object \n",
      " 8   V9      233633 non-null  object \n",
      " 9   V10     233633 non-null  object \n",
      " 10  V11     233633 non-null  object \n",
      " 11  V12     233633 non-null  object \n",
      " 12  Target  233633 non-null  int64  \n",
      " 13  V13     231762 non-null  object \n",
      "dtypes: float64(1), int64(2), object(11)\n",
      "memory usage: 25.0+ MB\n"
     ]
    },
    {
     "data": {
      "text/html": [
       "<div>\n",
       "<style scoped>\n",
       "    .dataframe tbody tr th:only-of-type {\n",
       "        vertical-align: middle;\n",
       "    }\n",
       "\n",
       "    .dataframe tbody tr th {\n",
       "        vertical-align: top;\n",
       "    }\n",
       "\n",
       "    .dataframe thead th {\n",
       "        text-align: right;\n",
       "    }\n",
       "</style>\n",
       "<table border=\"1\" class=\"dataframe\">\n",
       "  <thead>\n",
       "    <tr style=\"text-align: right;\">\n",
       "      <th></th>\n",
       "      <th>V4</th>\n",
       "      <th>V6</th>\n",
       "      <th>Target</th>\n",
       "    </tr>\n",
       "  </thead>\n",
       "  <tbody>\n",
       "    <tr>\n",
       "      <th>count</th>\n",
       "      <td>233633.000000</td>\n",
       "      <td>233633.000000</td>\n",
       "      <td>233633.000000</td>\n",
       "    </tr>\n",
       "    <tr>\n",
       "      <th>mean</th>\n",
       "      <td>266.360390</td>\n",
       "      <td>103071.463312</td>\n",
       "      <td>0.005521</td>\n",
       "    </tr>\n",
       "    <tr>\n",
       "      <th>std</th>\n",
       "      <td>1338.657212</td>\n",
       "      <td>143360.598172</td>\n",
       "      <td>0.074101</td>\n",
       "    </tr>\n",
       "    <tr>\n",
       "      <th>min</th>\n",
       "      <td>0.008350</td>\n",
       "      <td>0.000000</td>\n",
       "      <td>0.000000</td>\n",
       "    </tr>\n",
       "    <tr>\n",
       "      <th>25%</th>\n",
       "      <td>12.525000</td>\n",
       "      <td>33227.000000</td>\n",
       "      <td>0.000000</td>\n",
       "    </tr>\n",
       "    <tr>\n",
       "      <th>50%</th>\n",
       "      <td>33.400000</td>\n",
       "      <td>33227.000000</td>\n",
       "      <td>0.000000</td>\n",
       "    </tr>\n",
       "    <tr>\n",
       "      <th>75%</th>\n",
       "      <td>115.230000</td>\n",
       "      <td>33227.000000</td>\n",
       "      <td>0.000000</td>\n",
       "    </tr>\n",
       "    <tr>\n",
       "      <th>max</th>\n",
       "      <td>41750.000000</td>\n",
       "      <td>447246.000000</td>\n",
       "      <td>1.000000</td>\n",
       "    </tr>\n",
       "  </tbody>\n",
       "</table>\n",
       "</div>"
      ],
      "text/plain": [
       "                  V4             V6         Target\n",
       "count  233633.000000  233633.000000  233633.000000\n",
       "mean      266.360390  103071.463312       0.005521\n",
       "std      1338.657212  143360.598172       0.074101\n",
       "min         0.008350       0.000000       0.000000\n",
       "25%        12.525000   33227.000000       0.000000\n",
       "50%        33.400000   33227.000000       0.000000\n",
       "75%       115.230000   33227.000000       0.000000\n",
       "max     41750.000000  447246.000000       1.000000"
      ]
     },
     "execution_count": 7,
     "metadata": {},
     "output_type": "execute_result"
    }
   ],
   "source": [
    "print(\"Train shape:\", train.shape)\n",
    "print(\"Test shape:\", test.shape)\n",
    "\n",
    "print(\"\\nTrain columns:\", train.columns)\n",
    "print(\"\\nTest columns:\", test.columns)\n",
    "\n",
    "train.info()\n",
    "train.describe()\n"
   ]
  },
  {
   "cell_type": "code",
   "execution_count": 8,
   "id": "7c3edb93-cbdf-4ec9-9963-89ac9205d479",
   "metadata": {},
   "outputs": [
    {
     "name": "stdout",
     "output_type": "stream",
     "text": [
      "Missing values in train:\n",
      " V1           0\n",
      "V2           0\n",
      "V3           0\n",
      "V4           0\n",
      "V5           0\n",
      "V6           0\n",
      "V7           0\n",
      "V8           0\n",
      "V9           0\n",
      "V10          0\n",
      "V11          0\n",
      "V12          0\n",
      "Target       0\n",
      "V13       1871\n",
      "dtype: int64\n",
      "\n",
      "Missing values in test:\n",
      " V1        0\n",
      "V2        0\n",
      "V3        0\n",
      "V4        0\n",
      "V5        0\n",
      "V6        0\n",
      "V7        0\n",
      "V8        0\n",
      "V9        0\n",
      "V10       0\n",
      "V11       0\n",
      "V12       0\n",
      "V13    2761\n",
      "dtype: int64\n"
     ]
    }
   ],
   "source": [
    "print(\"Missing values in train:\\n\", train.isnull().sum())\n",
    "print(\"\\nMissing values in test:\\n\", test.isnull().sum())\n",
    "\n",
    "# Example: fill numeric NaNs with median\n",
    "train = train.fillna(train.median(numeric_only=True))\n",
    "test = test.fillna(test.median(numeric_only=True))\n"
   ]
  },
  {
   "cell_type": "code",
   "execution_count": 10,
   "id": "5a313d1d-9828-4247-b31e-f27049380cee",
   "metadata": {},
   "outputs": [
    {
     "name": "stdout",
     "output_type": "stream",
     "text": [
      "Index(['V1', 'V2', 'V3', 'V4', 'V5', 'V6', 'V7', 'V8', 'V9', 'V10', 'V11',\n",
      "       'V12', 'Target', 'V13'],\n",
      "      dtype='object')\n"
     ]
    }
   ],
   "source": [
    "print(train.columns)\n"
   ]
  },
  {
   "cell_type": "code",
   "execution_count": 12,
   "id": "e5af2d9c-8d07-4593-84cb-46bc13792967",
   "metadata": {},
   "outputs": [
    {
     "name": "stdout",
     "output_type": "stream",
     "text": [
      "Index(['V1', 'V2', 'V3', 'V4', 'V5', 'V6', 'V7', 'V8', 'V9', 'V10', 'V11',\n",
      "       'V12', 'Target', 'V13'],\n",
      "      dtype='object')\n",
      "         V1         V2          V3         V4                   V5      V6 V7  \\\n",
      "0  CUID1872  TID229526  EID2062082  485.69445  2020-03-20 22:51:30  376474  A   \n",
      "1  CUID5533  TID244499  EID1459012  393.45200  2020-04-28 07:17:12   33227  A   \n",
      "2  CUID5278  TID311877        EID0  375.75000  2020-08-15 04:11:43       0  F   \n",
      "3    CUID24  TID279685        EID0    6.97225  2020-06-26 01:11:42       0  C   \n",
      "4   CUID449  TID104689        EID0   16.70000  2020-09-15 10:11:06       0  C   \n",
      "\n",
      "       V8        V9       V10  V11  V12  Target                  V13  \n",
      "0     BA1  BB425559   PD44707  CC1  CP0       0  2020-03-21 00:00:00  \n",
      "1  BA4793  BB248012   PD39453  CC1  CP0       0  2020-04-28 00:00:00  \n",
      "2  BA5631  BB166256  PD237664  CC1  CP0       0                  NaN  \n",
      "3  BA7188  BB354924   PD99032  CC1  CP0       0                  NaN  \n",
      "4  BA7236  BB354924   PD63422  CC1  CP0       0                  NaN  \n"
     ]
    }
   ],
   "source": [
    "print(train.columns)       # shows all column names\n",
    "print(train.head())        # shows first 5 rows\n"
   ]
  },
  {
   "cell_type": "code",
   "execution_count": 16,
   "id": "68c99d78-8cd1-4f44-a884-c82e50a0e60a",
   "metadata": {},
   "outputs": [
    {
     "ename": "FileNotFoundError",
     "evalue": "[Errno 2] No such file or directory: 'train.csv'",
     "output_type": "error",
     "traceback": [
      "\u001b[1;31m---------------------------------------------------------------------------\u001b[0m",
      "\u001b[1;31mFileNotFoundError\u001b[0m                         Traceback (most recent call last)",
      "Cell \u001b[1;32mIn[16], line 5\u001b[0m\n\u001b[0;32m      2\u001b[0m \u001b[38;5;28;01mfrom\u001b[39;00m \u001b[38;5;21;01msklearn\u001b[39;00m\u001b[38;5;21;01m.\u001b[39;00m\u001b[38;5;21;01mmodel_selection\u001b[39;00m \u001b[38;5;28;01mimport\u001b[39;00m train_test_split\n\u001b[0;32m      4\u001b[0m \u001b[38;5;66;03m# Load dataset\u001b[39;00m\n\u001b[1;32m----> 5\u001b[0m train \u001b[38;5;241m=\u001b[39m \u001b[43mpd\u001b[49m\u001b[38;5;241;43m.\u001b[39;49m\u001b[43mread_csv\u001b[49m\u001b[43m(\u001b[49m\u001b[38;5;124;43m\"\u001b[39;49m\u001b[38;5;124;43mtrain.csv\u001b[39;49m\u001b[38;5;124;43m\"\u001b[39;49m\u001b[43m)\u001b[49m\n\u001b[0;32m      7\u001b[0m \u001b[38;5;66;03m# Define features (X) and target (y)\u001b[39;00m\n\u001b[0;32m      8\u001b[0m X \u001b[38;5;241m=\u001b[39m train\u001b[38;5;241m.\u001b[39mdrop(\u001b[38;5;124m\"\u001b[39m\u001b[38;5;124mTarget\u001b[39m\u001b[38;5;124m\"\u001b[39m, axis\u001b[38;5;241m=\u001b[39m\u001b[38;5;241m1\u001b[39m)   \u001b[38;5;66;03m# features\u001b[39;00m\n",
      "File \u001b[1;32m~\\AppData\\Local\\Programs\\Python\\Python312\\Lib\\site-packages\\pandas\\io\\parsers\\readers.py:1026\u001b[0m, in \u001b[0;36mread_csv\u001b[1;34m(filepath_or_buffer, sep, delimiter, header, names, index_col, usecols, dtype, engine, converters, true_values, false_values, skipinitialspace, skiprows, skipfooter, nrows, na_values, keep_default_na, na_filter, verbose, skip_blank_lines, parse_dates, infer_datetime_format, keep_date_col, date_parser, date_format, dayfirst, cache_dates, iterator, chunksize, compression, thousands, decimal, lineterminator, quotechar, quoting, doublequote, escapechar, comment, encoding, encoding_errors, dialect, on_bad_lines, delim_whitespace, low_memory, memory_map, float_precision, storage_options, dtype_backend)\u001b[0m\n\u001b[0;32m   1013\u001b[0m kwds_defaults \u001b[38;5;241m=\u001b[39m _refine_defaults_read(\n\u001b[0;32m   1014\u001b[0m     dialect,\n\u001b[0;32m   1015\u001b[0m     delimiter,\n\u001b[1;32m   (...)\u001b[0m\n\u001b[0;32m   1022\u001b[0m     dtype_backend\u001b[38;5;241m=\u001b[39mdtype_backend,\n\u001b[0;32m   1023\u001b[0m )\n\u001b[0;32m   1024\u001b[0m kwds\u001b[38;5;241m.\u001b[39mupdate(kwds_defaults)\n\u001b[1;32m-> 1026\u001b[0m \u001b[38;5;28;01mreturn\u001b[39;00m \u001b[43m_read\u001b[49m\u001b[43m(\u001b[49m\u001b[43mfilepath_or_buffer\u001b[49m\u001b[43m,\u001b[49m\u001b[43m \u001b[49m\u001b[43mkwds\u001b[49m\u001b[43m)\u001b[49m\n",
      "File \u001b[1;32m~\\AppData\\Local\\Programs\\Python\\Python312\\Lib\\site-packages\\pandas\\io\\parsers\\readers.py:620\u001b[0m, in \u001b[0;36m_read\u001b[1;34m(filepath_or_buffer, kwds)\u001b[0m\n\u001b[0;32m    617\u001b[0m _validate_names(kwds\u001b[38;5;241m.\u001b[39mget(\u001b[38;5;124m\"\u001b[39m\u001b[38;5;124mnames\u001b[39m\u001b[38;5;124m\"\u001b[39m, \u001b[38;5;28;01mNone\u001b[39;00m))\n\u001b[0;32m    619\u001b[0m \u001b[38;5;66;03m# Create the parser.\u001b[39;00m\n\u001b[1;32m--> 620\u001b[0m parser \u001b[38;5;241m=\u001b[39m \u001b[43mTextFileReader\u001b[49m\u001b[43m(\u001b[49m\u001b[43mfilepath_or_buffer\u001b[49m\u001b[43m,\u001b[49m\u001b[43m \u001b[49m\u001b[38;5;241;43m*\u001b[39;49m\u001b[38;5;241;43m*\u001b[39;49m\u001b[43mkwds\u001b[49m\u001b[43m)\u001b[49m\n\u001b[0;32m    622\u001b[0m \u001b[38;5;28;01mif\u001b[39;00m chunksize \u001b[38;5;129;01mor\u001b[39;00m iterator:\n\u001b[0;32m    623\u001b[0m     \u001b[38;5;28;01mreturn\u001b[39;00m parser\n",
      "File \u001b[1;32m~\\AppData\\Local\\Programs\\Python\\Python312\\Lib\\site-packages\\pandas\\io\\parsers\\readers.py:1620\u001b[0m, in \u001b[0;36mTextFileReader.__init__\u001b[1;34m(self, f, engine, **kwds)\u001b[0m\n\u001b[0;32m   1617\u001b[0m     \u001b[38;5;28mself\u001b[39m\u001b[38;5;241m.\u001b[39moptions[\u001b[38;5;124m\"\u001b[39m\u001b[38;5;124mhas_index_names\u001b[39m\u001b[38;5;124m\"\u001b[39m] \u001b[38;5;241m=\u001b[39m kwds[\u001b[38;5;124m\"\u001b[39m\u001b[38;5;124mhas_index_names\u001b[39m\u001b[38;5;124m\"\u001b[39m]\n\u001b[0;32m   1619\u001b[0m \u001b[38;5;28mself\u001b[39m\u001b[38;5;241m.\u001b[39mhandles: IOHandles \u001b[38;5;241m|\u001b[39m \u001b[38;5;28;01mNone\u001b[39;00m \u001b[38;5;241m=\u001b[39m \u001b[38;5;28;01mNone\u001b[39;00m\n\u001b[1;32m-> 1620\u001b[0m \u001b[38;5;28mself\u001b[39m\u001b[38;5;241m.\u001b[39m_engine \u001b[38;5;241m=\u001b[39m \u001b[38;5;28;43mself\u001b[39;49m\u001b[38;5;241;43m.\u001b[39;49m\u001b[43m_make_engine\u001b[49m\u001b[43m(\u001b[49m\u001b[43mf\u001b[49m\u001b[43m,\u001b[49m\u001b[43m \u001b[49m\u001b[38;5;28;43mself\u001b[39;49m\u001b[38;5;241;43m.\u001b[39;49m\u001b[43mengine\u001b[49m\u001b[43m)\u001b[49m\n",
      "File \u001b[1;32m~\\AppData\\Local\\Programs\\Python\\Python312\\Lib\\site-packages\\pandas\\io\\parsers\\readers.py:1880\u001b[0m, in \u001b[0;36mTextFileReader._make_engine\u001b[1;34m(self, f, engine)\u001b[0m\n\u001b[0;32m   1878\u001b[0m     \u001b[38;5;28;01mif\u001b[39;00m \u001b[38;5;124m\"\u001b[39m\u001b[38;5;124mb\u001b[39m\u001b[38;5;124m\"\u001b[39m \u001b[38;5;129;01mnot\u001b[39;00m \u001b[38;5;129;01min\u001b[39;00m mode:\n\u001b[0;32m   1879\u001b[0m         mode \u001b[38;5;241m+\u001b[39m\u001b[38;5;241m=\u001b[39m \u001b[38;5;124m\"\u001b[39m\u001b[38;5;124mb\u001b[39m\u001b[38;5;124m\"\u001b[39m\n\u001b[1;32m-> 1880\u001b[0m \u001b[38;5;28mself\u001b[39m\u001b[38;5;241m.\u001b[39mhandles \u001b[38;5;241m=\u001b[39m \u001b[43mget_handle\u001b[49m\u001b[43m(\u001b[49m\n\u001b[0;32m   1881\u001b[0m \u001b[43m    \u001b[49m\u001b[43mf\u001b[49m\u001b[43m,\u001b[49m\n\u001b[0;32m   1882\u001b[0m \u001b[43m    \u001b[49m\u001b[43mmode\u001b[49m\u001b[43m,\u001b[49m\n\u001b[0;32m   1883\u001b[0m \u001b[43m    \u001b[49m\u001b[43mencoding\u001b[49m\u001b[38;5;241;43m=\u001b[39;49m\u001b[38;5;28;43mself\u001b[39;49m\u001b[38;5;241;43m.\u001b[39;49m\u001b[43moptions\u001b[49m\u001b[38;5;241;43m.\u001b[39;49m\u001b[43mget\u001b[49m\u001b[43m(\u001b[49m\u001b[38;5;124;43m\"\u001b[39;49m\u001b[38;5;124;43mencoding\u001b[39;49m\u001b[38;5;124;43m\"\u001b[39;49m\u001b[43m,\u001b[49m\u001b[43m \u001b[49m\u001b[38;5;28;43;01mNone\u001b[39;49;00m\u001b[43m)\u001b[49m\u001b[43m,\u001b[49m\n\u001b[0;32m   1884\u001b[0m \u001b[43m    \u001b[49m\u001b[43mcompression\u001b[49m\u001b[38;5;241;43m=\u001b[39;49m\u001b[38;5;28;43mself\u001b[39;49m\u001b[38;5;241;43m.\u001b[39;49m\u001b[43moptions\u001b[49m\u001b[38;5;241;43m.\u001b[39;49m\u001b[43mget\u001b[49m\u001b[43m(\u001b[49m\u001b[38;5;124;43m\"\u001b[39;49m\u001b[38;5;124;43mcompression\u001b[39;49m\u001b[38;5;124;43m\"\u001b[39;49m\u001b[43m,\u001b[49m\u001b[43m \u001b[49m\u001b[38;5;28;43;01mNone\u001b[39;49;00m\u001b[43m)\u001b[49m\u001b[43m,\u001b[49m\n\u001b[0;32m   1885\u001b[0m \u001b[43m    \u001b[49m\u001b[43mmemory_map\u001b[49m\u001b[38;5;241;43m=\u001b[39;49m\u001b[38;5;28;43mself\u001b[39;49m\u001b[38;5;241;43m.\u001b[39;49m\u001b[43moptions\u001b[49m\u001b[38;5;241;43m.\u001b[39;49m\u001b[43mget\u001b[49m\u001b[43m(\u001b[49m\u001b[38;5;124;43m\"\u001b[39;49m\u001b[38;5;124;43mmemory_map\u001b[39;49m\u001b[38;5;124;43m\"\u001b[39;49m\u001b[43m,\u001b[49m\u001b[43m \u001b[49m\u001b[38;5;28;43;01mFalse\u001b[39;49;00m\u001b[43m)\u001b[49m\u001b[43m,\u001b[49m\n\u001b[0;32m   1886\u001b[0m \u001b[43m    \u001b[49m\u001b[43mis_text\u001b[49m\u001b[38;5;241;43m=\u001b[39;49m\u001b[43mis_text\u001b[49m\u001b[43m,\u001b[49m\n\u001b[0;32m   1887\u001b[0m \u001b[43m    \u001b[49m\u001b[43merrors\u001b[49m\u001b[38;5;241;43m=\u001b[39;49m\u001b[38;5;28;43mself\u001b[39;49m\u001b[38;5;241;43m.\u001b[39;49m\u001b[43moptions\u001b[49m\u001b[38;5;241;43m.\u001b[39;49m\u001b[43mget\u001b[49m\u001b[43m(\u001b[49m\u001b[38;5;124;43m\"\u001b[39;49m\u001b[38;5;124;43mencoding_errors\u001b[39;49m\u001b[38;5;124;43m\"\u001b[39;49m\u001b[43m,\u001b[49m\u001b[43m \u001b[49m\u001b[38;5;124;43m\"\u001b[39;49m\u001b[38;5;124;43mstrict\u001b[39;49m\u001b[38;5;124;43m\"\u001b[39;49m\u001b[43m)\u001b[49m\u001b[43m,\u001b[49m\n\u001b[0;32m   1888\u001b[0m \u001b[43m    \u001b[49m\u001b[43mstorage_options\u001b[49m\u001b[38;5;241;43m=\u001b[39;49m\u001b[38;5;28;43mself\u001b[39;49m\u001b[38;5;241;43m.\u001b[39;49m\u001b[43moptions\u001b[49m\u001b[38;5;241;43m.\u001b[39;49m\u001b[43mget\u001b[49m\u001b[43m(\u001b[49m\u001b[38;5;124;43m\"\u001b[39;49m\u001b[38;5;124;43mstorage_options\u001b[39;49m\u001b[38;5;124;43m\"\u001b[39;49m\u001b[43m,\u001b[49m\u001b[43m \u001b[49m\u001b[38;5;28;43;01mNone\u001b[39;49;00m\u001b[43m)\u001b[49m\u001b[43m,\u001b[49m\n\u001b[0;32m   1889\u001b[0m \u001b[43m\u001b[49m\u001b[43m)\u001b[49m\n\u001b[0;32m   1890\u001b[0m \u001b[38;5;28;01massert\u001b[39;00m \u001b[38;5;28mself\u001b[39m\u001b[38;5;241m.\u001b[39mhandles \u001b[38;5;129;01mis\u001b[39;00m \u001b[38;5;129;01mnot\u001b[39;00m \u001b[38;5;28;01mNone\u001b[39;00m\n\u001b[0;32m   1891\u001b[0m f \u001b[38;5;241m=\u001b[39m \u001b[38;5;28mself\u001b[39m\u001b[38;5;241m.\u001b[39mhandles\u001b[38;5;241m.\u001b[39mhandle\n",
      "File \u001b[1;32m~\\AppData\\Local\\Programs\\Python\\Python312\\Lib\\site-packages\\pandas\\io\\common.py:873\u001b[0m, in \u001b[0;36mget_handle\u001b[1;34m(path_or_buf, mode, encoding, compression, memory_map, is_text, errors, storage_options)\u001b[0m\n\u001b[0;32m    868\u001b[0m \u001b[38;5;28;01melif\u001b[39;00m \u001b[38;5;28misinstance\u001b[39m(handle, \u001b[38;5;28mstr\u001b[39m):\n\u001b[0;32m    869\u001b[0m     \u001b[38;5;66;03m# Check whether the filename is to be opened in binary mode.\u001b[39;00m\n\u001b[0;32m    870\u001b[0m     \u001b[38;5;66;03m# Binary mode does not support 'encoding' and 'newline'.\u001b[39;00m\n\u001b[0;32m    871\u001b[0m     \u001b[38;5;28;01mif\u001b[39;00m ioargs\u001b[38;5;241m.\u001b[39mencoding \u001b[38;5;129;01mand\u001b[39;00m \u001b[38;5;124m\"\u001b[39m\u001b[38;5;124mb\u001b[39m\u001b[38;5;124m\"\u001b[39m \u001b[38;5;129;01mnot\u001b[39;00m \u001b[38;5;129;01min\u001b[39;00m ioargs\u001b[38;5;241m.\u001b[39mmode:\n\u001b[0;32m    872\u001b[0m         \u001b[38;5;66;03m# Encoding\u001b[39;00m\n\u001b[1;32m--> 873\u001b[0m         handle \u001b[38;5;241m=\u001b[39m \u001b[38;5;28;43mopen\u001b[39;49m\u001b[43m(\u001b[49m\n\u001b[0;32m    874\u001b[0m \u001b[43m            \u001b[49m\u001b[43mhandle\u001b[49m\u001b[43m,\u001b[49m\n\u001b[0;32m    875\u001b[0m \u001b[43m            \u001b[49m\u001b[43mioargs\u001b[49m\u001b[38;5;241;43m.\u001b[39;49m\u001b[43mmode\u001b[49m\u001b[43m,\u001b[49m\n\u001b[0;32m    876\u001b[0m \u001b[43m            \u001b[49m\u001b[43mencoding\u001b[49m\u001b[38;5;241;43m=\u001b[39;49m\u001b[43mioargs\u001b[49m\u001b[38;5;241;43m.\u001b[39;49m\u001b[43mencoding\u001b[49m\u001b[43m,\u001b[49m\n\u001b[0;32m    877\u001b[0m \u001b[43m            \u001b[49m\u001b[43merrors\u001b[49m\u001b[38;5;241;43m=\u001b[39;49m\u001b[43merrors\u001b[49m\u001b[43m,\u001b[49m\n\u001b[0;32m    878\u001b[0m \u001b[43m            \u001b[49m\u001b[43mnewline\u001b[49m\u001b[38;5;241;43m=\u001b[39;49m\u001b[38;5;124;43m\"\u001b[39;49m\u001b[38;5;124;43m\"\u001b[39;49m\u001b[43m,\u001b[49m\n\u001b[0;32m    879\u001b[0m \u001b[43m        \u001b[49m\u001b[43m)\u001b[49m\n\u001b[0;32m    880\u001b[0m     \u001b[38;5;28;01melse\u001b[39;00m:\n\u001b[0;32m    881\u001b[0m         \u001b[38;5;66;03m# Binary mode\u001b[39;00m\n\u001b[0;32m    882\u001b[0m         handle \u001b[38;5;241m=\u001b[39m \u001b[38;5;28mopen\u001b[39m(handle, ioargs\u001b[38;5;241m.\u001b[39mmode)\n",
      "\u001b[1;31mFileNotFoundError\u001b[0m: [Errno 2] No such file or directory: 'train.csv'"
     ]
    }
   ],
   "source": [
    "import pandas as pd\n",
    "from sklearn.model_selection import train_test_split\n",
    "\n",
    "# Load dataset\n",
    "train = pd.read_csv(\"train.csv\")\n",
    "\n",
    "# Define features (X) and target (y)\n",
    "X = train.drop(\"Target\", axis=1)   # features\n",
    "y = train[\"Target\"]                # target\n",
    "\n",
    "# Train-test split\n",
    "X_train, X_val, y_train, y_val = train_test_split(\n",
    "    X, y, test_size=0.2, random_state=42, stratify=y\n",
    ")\n"
   ]
  },
  {
   "cell_type": "code",
   "execution_count": 15,
   "id": "510136f5-33b2-427a-ac5b-77971a350f64",
   "metadata": {},
   "outputs": [],
   "source": [
    "from sklearn.preprocessing import OrdinalEncoder\n",
    "\n",
    "# Copy data\n",
    "X_train_enc = X_train.copy()\n",
    "X_val_enc = X_val.copy()\n",
    "\n",
    "# Categorical columns\n",
    "cat_cols = [\"V1\", \"V2\", \"V3\", \"V5\", \"V7\", \"V8\", \"V9\", \"V10\", \"V11\", \"V12\", \"V13\"]\n",
    "\n",
    "# Encoder that can handle unseen categories\n",
    "encoder = OrdinalEncoder(handle_unknown=\"use_encoded_value\", unknown_value=-1)\n",
    "\n",
    "# Fit on train, transform both\n",
    "X_train_enc[cat_cols] = encoder.fit_transform(X_train_enc[cat_cols].astype(str))\n",
    "X_val_enc[cat_cols] = encoder.transform(X_val_enc[cat_cols].astype(str))\n"
   ]
  },
  {
   "cell_type": "code",
   "execution_count": 16,
   "id": "4242db3f-0408-4f32-b54f-718af6a2348a",
   "metadata": {},
   "outputs": [
    {
     "name": "stdout",
     "output_type": "stream",
     "text": [
      "Accuracy: 0.9947139769298264\n",
      "              precision    recall  f1-score   support\n",
      "\n",
      "           0       0.99      1.00      1.00     46480\n",
      "           1       0.00      0.00      0.00       247\n",
      "\n",
      "    accuracy                           0.99     46727\n",
      "   macro avg       0.50      0.50      0.50     46727\n",
      "weighted avg       0.99      0.99      0.99     46727\n",
      "\n"
     ]
    },
    {
     "name": "stderr",
     "output_type": "stream",
     "text": [
      "C:\\Users\\nirma\\AppData\\Local\\Programs\\Python\\Python312\\Lib\\site-packages\\sklearn\\linear_model\\_logistic.py:473: ConvergenceWarning: lbfgs failed to converge after 1000 iteration(s) (status=1):\n",
      "STOP: TOTAL NO. OF ITERATIONS REACHED LIMIT\n",
      "\n",
      "Increase the number of iterations to improve the convergence (max_iter=1000).\n",
      "You might also want to scale the data as shown in:\n",
      "    https://scikit-learn.org/stable/modules/preprocessing.html\n",
      "Please also refer to the documentation for alternative solver options:\n",
      "    https://scikit-learn.org/stable/modules/linear_model.html#logistic-regression\n",
      "  n_iter_i = _check_optimize_result(\n",
      "C:\\Users\\nirma\\AppData\\Local\\Programs\\Python\\Python312\\Lib\\site-packages\\sklearn\\metrics\\_classification.py:1731: UndefinedMetricWarning: Precision is ill-defined and being set to 0.0 in labels with no predicted samples. Use `zero_division` parameter to control this behavior.\n",
      "  _warn_prf(average, modifier, f\"{metric.capitalize()} is\", result.shape[0])\n",
      "C:\\Users\\nirma\\AppData\\Local\\Programs\\Python\\Python312\\Lib\\site-packages\\sklearn\\metrics\\_classification.py:1731: UndefinedMetricWarning: Precision is ill-defined and being set to 0.0 in labels with no predicted samples. Use `zero_division` parameter to control this behavior.\n",
      "  _warn_prf(average, modifier, f\"{metric.capitalize()} is\", result.shape[0])\n",
      "C:\\Users\\nirma\\AppData\\Local\\Programs\\Python\\Python312\\Lib\\site-packages\\sklearn\\metrics\\_classification.py:1731: UndefinedMetricWarning: Precision is ill-defined and being set to 0.0 in labels with no predicted samples. Use `zero_division` parameter to control this behavior.\n",
      "  _warn_prf(average, modifier, f\"{metric.capitalize()} is\", result.shape[0])\n"
     ]
    }
   ],
   "source": [
    "from sklearn.linear_model import LogisticRegression\n",
    "from sklearn.metrics import accuracy_score, classification_report\n",
    "\n",
    "# Train model\n",
    "model = LogisticRegression(max_iter=1000)\n",
    "model.fit(X_train_enc, y_train)\n",
    "\n",
    "# Predict on validation set\n",
    "y_pred = model.predict(X_val_enc)\n",
    "\n",
    "# Evaluate\n",
    "print(\"Accuracy:\", accuracy_score(y_val, y_pred))\n",
    "print(classification_report(y_val, y_pred))\n"
   ]
  },
  {
   "cell_type": "code",
   "execution_count": 3,
   "id": "bb5f5a8f-22cd-4a1b-923f-6a05c8ea7e44",
   "metadata": {},
   "outputs": [
    {
     "name": "stdout",
     "output_type": "stream",
     "text": [
      "Collecting imbalanced-learn\n",
      "  Downloading imbalanced_learn-0.14.0-py3-none-any.whl.metadata (8.8 kB)\n",
      "Requirement already satisfied: numpy<3,>=1.25.2 in c:\\users\\nirma\\appdata\\local\\programs\\python\\python312\\lib\\site-packages (from imbalanced-learn) (1.26.4)\n",
      "Requirement already satisfied: scipy<2,>=1.11.4 in c:\\users\\nirma\\appdata\\local\\programs\\python\\python312\\lib\\site-packages (from imbalanced-learn) (1.16.2)\n",
      "Requirement already satisfied: scikit-learn<2,>=1.4.2 in c:\\users\\nirma\\appdata\\local\\programs\\python\\python312\\lib\\site-packages (from imbalanced-learn) (1.7.2)\n",
      "Requirement already satisfied: joblib<2,>=1.2.0 in c:\\users\\nirma\\appdata\\local\\programs\\python\\python312\\lib\\site-packages (from imbalanced-learn) (1.5.2)\n",
      "Requirement already satisfied: threadpoolctl<4,>=2.0.0 in c:\\users\\nirma\\appdata\\local\\programs\\python\\python312\\lib\\site-packages (from imbalanced-learn) (3.6.0)\n",
      "Downloading imbalanced_learn-0.14.0-py3-none-any.whl (239 kB)\n",
      "Installing collected packages: imbalanced-learn\n",
      "Successfully installed imbalanced-learn-0.14.0\n"
     ]
    }
   ],
   "source": [
    "!pip install imbalanced-learn\n"
   ]
  },
  {
   "cell_type": "code",
   "execution_count": 4,
   "id": "94fa7baa-80b3-49a3-8e45-629ae0ae8288",
   "metadata": {},
   "outputs": [
    {
     "name": "stdout",
     "output_type": "stream",
     "text": [
      "Requirement already satisfied: imbalanced-learn in c:\\users\\nirma\\appdata\\local\\programs\\python\\python312\\lib\\site-packages (0.14.0)\n",
      "Requirement already satisfied: numpy<3,>=1.25.2 in c:\\users\\nirma\\appdata\\local\\programs\\python\\python312\\lib\\site-packages (from imbalanced-learn) (1.26.4)\n",
      "Requirement already satisfied: scipy<2,>=1.11.4 in c:\\users\\nirma\\appdata\\local\\programs\\python\\python312\\lib\\site-packages (from imbalanced-learn) (1.16.2)\n",
      "Requirement already satisfied: scikit-learn<2,>=1.4.2 in c:\\users\\nirma\\appdata\\local\\programs\\python\\python312\\lib\\site-packages (from imbalanced-learn) (1.7.2)\n",
      "Requirement already satisfied: joblib<2,>=1.2.0 in c:\\users\\nirma\\appdata\\local\\programs\\python\\python312\\lib\\site-packages (from imbalanced-learn) (1.5.2)\n",
      "Requirement already satisfied: threadpoolctl<4,>=2.0.0 in c:\\users\\nirma\\appdata\\local\\programs\\python\\python312\\lib\\site-packages (from imbalanced-learn) (3.6.0)\n",
      "Note: you may need to restart the kernel to use updated packages.\n"
     ]
    }
   ],
   "source": [
    "%pip install imbalanced-learn\n"
   ]
  },
  {
   "cell_type": "code",
   "execution_count": 1,
   "id": "d8db44bb-ce25-4fa2-96ae-9f499292987e",
   "metadata": {},
   "outputs": [],
   "source": [
    "from imblearn.over_sampling import SMOTE\n"
   ]
  },
  {
   "cell_type": "code",
   "execution_count": 2,
   "id": "ce1c46e6-0b0e-4509-ad5e-25da81d04c4a",
   "metadata": {},
   "outputs": [
    {
     "ename": "NameError",
     "evalue": "name 'X' is not defined",
     "output_type": "error",
     "traceback": [
      "\u001b[1;31m---------------------------------------------------------------------------\u001b[0m",
      "\u001b[1;31mNameError\u001b[0m                                 Traceback (most recent call last)",
      "Cell \u001b[1;32mIn[2], line 20\u001b[0m\n\u001b[0;32m     10\u001b[0m \u001b[38;5;28;01mfrom\u001b[39;00m \u001b[38;5;21;01mimblearn\u001b[39;00m\u001b[38;5;21;01m.\u001b[39;00m\u001b[38;5;21;01mover_sampling\u001b[39;00m \u001b[38;5;28;01mimport\u001b[39;00m SMOTE\n\u001b[0;32m     12\u001b[0m \u001b[38;5;66;03m# -------------------\u001b[39;00m\n\u001b[0;32m     13\u001b[0m \u001b[38;5;66;03m# Load your dataset\u001b[39;00m\n\u001b[0;32m     14\u001b[0m \u001b[38;5;66;03m# -------------------\u001b[39;00m\n\u001b[1;32m   (...)\u001b[0m\n\u001b[0;32m     18\u001b[0m \n\u001b[0;32m     19\u001b[0m \u001b[38;5;66;03m# Train-test split\u001b[39;00m\n\u001b[1;32m---> 20\u001b[0m X_train, X_val, y_train, y_val \u001b[38;5;241m=\u001b[39m train_test_split(\u001b[43mX\u001b[49m, y, test_size\u001b[38;5;241m=\u001b[39m\u001b[38;5;241m0.2\u001b[39m, random_state\u001b[38;5;241m=\u001b[39m\u001b[38;5;241m42\u001b[39m, stratify\u001b[38;5;241m=\u001b[39my)\n\u001b[0;32m     22\u001b[0m \u001b[38;5;66;03m# -------------------\u001b[39;00m\n\u001b[0;32m     23\u001b[0m \u001b[38;5;66;03m# Encode categorical columns\u001b[39;00m\n\u001b[0;32m     24\u001b[0m \u001b[38;5;66;03m# -------------------\u001b[39;00m\n\u001b[0;32m     25\u001b[0m cat_cols \u001b[38;5;241m=\u001b[39m X_train\u001b[38;5;241m.\u001b[39mselect_dtypes(include\u001b[38;5;241m=\u001b[39m[\u001b[38;5;124m\"\u001b[39m\u001b[38;5;124mobject\u001b[39m\u001b[38;5;124m\"\u001b[39m])\u001b[38;5;241m.\u001b[39mcolumns\n",
      "\u001b[1;31mNameError\u001b[0m: name 'X' is not defined"
     ]
    }
   ],
   "source": [
    "import pandas as pd\n",
    "from sklearn.model_selection import train_test_split\n",
    "from sklearn.preprocessing import LabelEncoder\n",
    "from sklearn.linear_model import LogisticRegression\n",
    "from sklearn.ensemble import RandomForestClassifier\n",
    "from sklearn.metrics import classification_report, accuracy_score\n",
    "from imblearn.over_sampling import SMOTE\n",
    "\n",
    "# -------------------\n",
    "# Load your dataset\n",
    "# -------------------\n",
    "# (Assuming you already loaded train DataFrame)\n",
    "# X = train.drop(\"Target\", axis=1)\n",
    "# y = train[\"Target\"]\n",
    "\n",
    "# Train-test split\n",
    "X_train, X_val, y_train, y_val = train_test_split(X, y, test_size=0.2, random_state=42, stratify=y)\n",
    "\n",
    "# -------------------\n",
    "# Encode categorical columns\n",
    "# -------------------\n",
    "cat_cols = X_train.select_dtypes(include=[\"object\"]).columns\n",
    "\n",
    "encoder = LabelEncoder()\n",
    "X_train_enc = X_train.copy()\n",
    "X_val_enc = X_val.copy()\n",
    "\n",
    "for col in cat_cols:\n",
    "    encoder.fit(list(X_train_enc[col].astype(str)) + list(X_val_enc[col].astype(str)))\n",
    "    X_train_enc[col] = encoder.transform(X_train_enc[col].astype(str))\n",
    "    X_val_enc[col] = encoder.transform(X_val_enc[col].astype(str))\n",
    "\n",
    "# -------------------\n",
    "# Handle class imbalance using SMOTE\n",
    "# -------------------\n",
    "smote = SMOTE(random_state=42)\n",
    "X_train_res, y_train_res = smote.fit_resample(X_train_enc, y_train)\n",
    "\n",
    "print(\"Before SMOTE:\", y_train.value_counts().to_dict())\n",
    "print(\"After SMOTE:\", y_train_res.value_counts().to_dict())\n",
    "\n",
    "# -------------------\n",
    "# Logistic Regression\n",
    "# -------------------\n",
    "log_model = LogisticRegression(max_iter=2000, random_state=42)\n",
    "log_model.fit(X_train_res, y_train_res)\n",
    "\n",
    "y_pred_log = log_model.predict(X_val_enc)\n",
    "\n",
    "print(\"\\nLogistic Regression Results\")\n",
    "print(\"Accuracy:\", accuracy_score(y_val, y_pred_log))\n",
    "print(classification_report(y_val, y_pred_log))\n",
    "\n",
    "# -------------------\n",
    "# Random Forest\n",
    "# -------------------\n",
    "rf_model = RandomForestClassifier(n_estimators=200, random_state=42, class_weight=\"balanced\")\n",
    "rf_model.fit(X_train_res, y_train_res)\n",
    "\n",
    "y_pred_rf = rf_model.predict(X_val_enc)\n",
    "\n",
    "print(\"\\nRandom Forest Results\")\n",
    "print(\"Accuracy:\", accuracy_score(y_val, y_pred_rf))\n",
    "print(classification_report(y_val, y_pred_rf))\n"
   ]
  },
  {
   "cell_type": "code",
   "execution_count": 6,
   "id": "ef125b11-90b6-4afc-9467-6a88df617e32",
   "metadata": {},
   "outputs": [
    {
     "name": "stdout",
     "output_type": "stream",
     "text": [
      "C:\\Users\\nirma\n",
      "['.android', '.cache', '.eclipse', '.idlerc', '.ipynb_checkpoints', '.ipython', '.jupyter', '.matplotlib', '.ms-ad', '.node_repl_history', '.p2', '.VirtualBox', '.vscode', '.zenmap', 'AppData', 'Application Data', 'battery-report.html', 'cake', 'cake-buy', 'Contacts', 'Cookies', 'datasets', 'demo-project', 'Documents', 'Downloads', 'Favorites', 'HSBC.ipynb', 'IdeaProjects', 'Links', 'Local Settings', 'Microsoft', 'Music', 'My Documents', 'my-app', 'NetHood', 'NTUSER.DAT', 'ntuser.dat.LOG1', 'ntuser.dat.LOG2', 'NTUSER.DAT{c7e1f11f-87b8-11f0-96d1-b8d33c9be4bb}.TM.blf', 'NTUSER.DAT{c7e1f11f-87b8-11f0-96d1-b8d33c9be4bb}.TMContainer00000000000000000001.regtrans-ms', 'NTUSER.DAT{c7e1f11f-87b8-11f0-96d1-b8d33c9be4bb}.TMContainer00000000000000000002.regtrans-ms', 'ntuser.ini', 'OneDrive', 'package-lock.json', 'PrintHood', 'project-name', 'react', 'reactjs', 'Recent', 'Saved Games', 'Searches', 'SendTo', 'Start Menu', 'Templates', 'Untitled.ipynb', 'Untitled1.ipynb', 'Untitled2.ipynb', 'Untitled3.ipynb', 'Untitled4.ipynb', 'Videos', 'VirtualBox VMs', 'WPS Cloud Files']\n"
     ]
    }
   ],
   "source": [
    "import os\n",
    "print(os.getcwd())   # shows current working directory\n",
    "print(os.listdir())  # lists all files in the folder\n"
   ]
  },
  {
   "cell_type": "code",
   "execution_count": 9,
   "id": "d380f2db-a189-4bd0-8b13-23a7a7375eed",
   "metadata": {},
   "outputs": [
    {
     "name": "stdout",
     "output_type": "stream",
     "text": [
      "         V1         V2          V3         V4                   V5      V6 V7  \\\n",
      "0  CUID1872  TID229526  EID2062082  485.69445  2020-03-20 22:51:30  376474  A   \n",
      "1  CUID5533  TID244499  EID1459012  393.45200  2020-04-28 07:17:12   33227  A   \n",
      "2  CUID5278  TID311877        EID0  375.75000  2020-08-15 04:11:43       0  F   \n",
      "3    CUID24  TID279685        EID0    6.97225  2020-06-26 01:11:42       0  C   \n",
      "4   CUID449  TID104689        EID0   16.70000  2020-09-15 10:11:06       0  C   \n",
      "\n",
      "       V8        V9       V10  V11  V12  Target                  V13  \n",
      "0     BA1  BB425559   PD44707  CC1  CP0       0  2020-03-21 00:00:00  \n",
      "1  BA4793  BB248012   PD39453  CC1  CP0       0  2020-04-28 00:00:00  \n",
      "2  BA5631  BB166256  PD237664  CC1  CP0       0                  NaN  \n",
      "3  BA7188  BB354924   PD99032  CC1  CP0       0                  NaN  \n",
      "4  BA7236  BB354924   PD63422  CC1  CP0       0                  NaN  \n"
     ]
    }
   ],
   "source": [
    "import pandas as pd\n",
    "\n",
    "train = pd.read_csv(r\"C:\\Users\\nirma\\datasets\\archive (1)\\dataset\\train.csv\")\n",
    "print(train.head())   # just to check first rows\n"
   ]
  },
  {
   "cell_type": "code",
   "execution_count": 10,
   "id": "b511a271-f854-4189-8e30-7dce11183969",
   "metadata": {},
   "outputs": [
    {
     "name": "stdout",
     "output_type": "stream",
     "text": [
      "Train shape: (233633, 14)\n",
      "Test shape: (215852, 13)\n",
      "         V1         V2          V3         V4                   V5      V6 V7  \\\n",
      "0  CUID1872  TID229526  EID2062082  485.69445  2020-03-20 22:51:30  376474  A   \n",
      "1  CUID5533  TID244499  EID1459012  393.45200  2020-04-28 07:17:12   33227  A   \n",
      "2  CUID5278  TID311877        EID0  375.75000  2020-08-15 04:11:43       0  F   \n",
      "3    CUID24  TID279685        EID0    6.97225  2020-06-26 01:11:42       0  C   \n",
      "4   CUID449  TID104689        EID0   16.70000  2020-09-15 10:11:06       0  C   \n",
      "\n",
      "       V8        V9       V10  V11  V12  Target                  V13  \n",
      "0     BA1  BB425559   PD44707  CC1  CP0       0  2020-03-21 00:00:00  \n",
      "1  BA4793  BB248012   PD39453  CC1  CP0       0  2020-04-28 00:00:00  \n",
      "2  BA5631  BB166256  PD237664  CC1  CP0       0                  NaN  \n",
      "3  BA7188  BB354924   PD99032  CC1  CP0       0                  NaN  \n",
      "4  BA7236  BB354924   PD63422  CC1  CP0       0                  NaN  \n",
      "         V1         V2          V3         V4                V5      V6 V7  \\\n",
      "0  CUID6660  TID198043   EID908838   4154.125  13-08-2020 08:41   33227  A   \n",
      "1  CUID6660  TID312736   EID502971   8350.000  17-08-2020 04:13   33227  A   \n",
      "2  CUID6660  TID308818   EID231193     20.875  11-08-2020 01:40  363981  A   \n",
      "3  CUID6660  TID321252  EID1124129  20457.500  30-08-2020 22:11   33227  A   \n",
      "4  CUID6660  TID420788   EID908838   4154.125  13-08-2020 08:40   33227  A   \n",
      "\n",
      "       V8       V9      V10  V11  V12               V13  \n",
      "0  BA4811  BB68389  PD39402  CC1  CP0  11-08-2020 00:00  \n",
      "1  BA4811  BB68389  PD39402  CC1  CP0  11-08-2020 00:00  \n",
      "2  BA4811  BB68389  PD39402  CC1  CP0  11-08-2020 00:00  \n",
      "3  BA4811  BB68389  PD39402  CC1  CP0  11-08-2020 00:00  \n",
      "4  BA4811  BB68389  PD39402  CC1  CP0  11-08-2020 00:00  \n"
     ]
    }
   ],
   "source": [
    "import pandas as pd\n",
    "\n",
    "# Load train and test datasets\n",
    "train = pd.read_csv(r\"C:\\Users\\nirma\\datasets\\archive (1)\\dataset\\train.csv\")\n",
    "test  = pd.read_csv(r\"C:\\Users\\nirma\\datasets\\archive (1)\\dataset\\test.csv\")\n",
    "\n",
    "# Quick check of first few rows\n",
    "print(\"Train shape:\", train.shape)\n",
    "print(\"Test shape:\", test.shape)\n",
    "print(train.head())\n",
    "print(test.head())\n"
   ]
  },
  {
   "cell_type": "code",
   "execution_count": 11,
   "id": "3a691ba5-c2c0-4f91-af45-e95381b8a2f0",
   "metadata": {},
   "outputs": [
    {
     "name": "stdout",
     "output_type": "stream",
     "text": [
      "Features shape: (233633, 13)\n",
      "Target shape: (233633,)\n"
     ]
    }
   ],
   "source": [
    "# Define features and target\n",
    "X = train.drop(\"Target\", axis=1)   # all columns except Target\n",
    "y = train[\"Target\"]                # only the Target column\n",
    "\n",
    "print(\"Features shape:\", X.shape)\n",
    "print(\"Target shape:\", y.shape)\n"
   ]
  },
  {
   "cell_type": "code",
   "execution_count": 12,
   "id": "7acb7140-1f2f-4266-92c3-91d96da2c819",
   "metadata": {},
   "outputs": [
    {
     "name": "stdout",
     "output_type": "stream",
     "text": [
      "Training set: (186906, 13) (186906,)\n",
      "Validation set: (46727, 13) (46727,)\n"
     ]
    }
   ],
   "source": [
    "from sklearn.model_selection import train_test_split\n",
    "\n",
    "X_train, X_val, y_train, y_val = train_test_split(\n",
    "    X, y, test_size=0.2, random_state=42, stratify=y\n",
    ")\n",
    "\n",
    "print(\"Training set:\", X_train.shape, y_train.shape)\n",
    "print(\"Validation set:\", X_val.shape, y_val.shape)\n"
   ]
  },
  {
   "cell_type": "code",
   "execution_count": 14,
   "id": "c740a9c3-7cfe-49bc-b6c7-47d569cbb119",
   "metadata": {},
   "outputs": [
    {
     "name": "stdout",
     "output_type": "stream",
     "text": [
      "Categorical columns encoded: ['V1', 'V2', 'V3', 'V5', 'V7', 'V8', 'V9', 'V10', 'V11', 'V12', 'V13']\n"
     ]
    }
   ],
   "source": [
    "from sklearn.preprocessing import OrdinalEncoder\n",
    "\n",
    "# Copy datasets\n",
    "X_train_enc = X_train.copy()\n",
    "X_val_enc = X_val.copy()\n",
    "\n",
    "# Find categorical columns\n",
    "cat_cols = X_train.select_dtypes(include=[\"object\"]).columns\n",
    "\n",
    "# Apply Ordinal Encoding\n",
    "encoder = OrdinalEncoder(handle_unknown=\"use_encoded_value\", unknown_value=-1)\n",
    "\n",
    "X_train_enc[cat_cols] = encoder.fit_transform(X_train_enc[cat_cols].astype(str))\n",
    "X_val_enc[cat_cols] = encoder.transform(X_val_enc[cat_cols].astype(str))\n",
    "\n",
    "print(\"Categorical columns encoded:\", list(cat_cols))\n"
   ]
  },
  {
   "cell_type": "code",
   "execution_count": 15,
   "id": "ab8d469d-5f15-4019-a33d-50de08388017",
   "metadata": {},
   "outputs": [
    {
     "name": "stdout",
     "output_type": "stream",
     "text": [
      "✅ Random Forest Accuracy: 0.9959124275044406\n",
      "\n",
      "Classification Report:\n",
      "               precision    recall  f1-score   support\n",
      "\n",
      "           0       1.00      1.00      1.00     46469\n",
      "           1       1.00      0.26      0.41       258\n",
      "\n",
      "    accuracy                           1.00     46727\n",
      "   macro avg       1.00      0.63      0.71     46727\n",
      "weighted avg       1.00      1.00      0.99     46727\n",
      "\n"
     ]
    }
   ],
   "source": [
    "from sklearn.ensemble import RandomForestClassifier\n",
    "from sklearn.metrics import accuracy_score, classification_report\n",
    "\n",
    "# Initialize Random Forest\n",
    "rf = RandomForestClassifier(n_estimators=100, random_state=42)\n",
    "\n",
    "# Train the model\n",
    "rf.fit(X_train_enc, y_train)\n",
    "\n",
    "# Predict on validation set\n",
    "y_pred_rf = rf.predict(X_val_enc)\n",
    "\n",
    "# Evaluate performance\n",
    "print(\"✅ Random Forest Accuracy:\", accuracy_score(y_val, y_pred_rf))\n",
    "print(\"\\nClassification Report:\\n\", classification_report(y_val, y_pred_rf))\n"
   ]
  },
  {
   "cell_type": "code",
   "execution_count": null,
   "id": "d52916d7-febc-4e0f-a4e6-6a1271ca1838",
   "metadata": {},
   "outputs": [],
   "source": []
  }
 ],
 "metadata": {
  "kernelspec": {
   "display_name": "Python 3 (ipykernel)",
   "language": "python",
   "name": "python3"
  },
  "language_info": {
   "codemirror_mode": {
    "name": "ipython",
    "version": 3
   },
   "file_extension": ".py",
   "mimetype": "text/x-python",
   "name": "python",
   "nbconvert_exporter": "python",
   "pygments_lexer": "ipython3",
   "version": "3.12.2"
  }
 },
 "nbformat": 4,
 "nbformat_minor": 5
}
